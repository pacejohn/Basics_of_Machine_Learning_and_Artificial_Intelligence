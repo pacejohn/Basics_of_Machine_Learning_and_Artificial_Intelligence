{
 "cells": [
  {
   "cell_type": "markdown",
   "metadata": {},
   "source": [
    "# Regression"
   ]
  },
  {
   "cell_type": "markdown",
   "metadata": {},
   "source": [
    "Linear regression is used to determine if a set of predictor variables do a good job in predicting an outcome, or dependent, variable.  It also attempts to determine which particular variables are significant predictors of the outcome variable, and the magnitude and sign they have on the outcome variable."
   ]
  },
  {
   "cell_type": "code",
   "execution_count": null,
   "metadata": {},
   "outputs": [],
   "source": [
    "# Imports\n",
    "import matplotlib.pyplot as plt  \n",
    "import numpy as np  \n",
    "import pandas as pd  \n",
    "import plotly.express as px\n",
    "import plotly.graph_objects as go\n",
    "import seaborn as sns \n",
    "import sklearn\n",
    "from sklearn import metrics\n",
    "from sklearn import model_selection\n",
    "from sklearn.feature_selection import RFE\n",
    "from sklearn.linear_model import LinearRegression, LogisticRegression\n",
    "from sklearn.metrics import roc_auc_score, confusion_matrix, classification_report, roc_curve, accuracy_score\n",
    "from sklearn.model_selection import train_test_split, cross_val_predict \n",
    "import statsmodels.api as sm\n"
   ]
  },
  {
   "cell_type": "markdown",
   "metadata": {},
   "source": [
    "# Use Simple Linear Regression to Predict Prices for Houses in Memphis in the 38118 Zip Code Based on Square Footage\n",
    "\n",
    "### First, import the dataset and display the ranges of the values"
   ]
  },
  {
   "cell_type": "code",
   "execution_count": null,
   "metadata": {},
   "outputs": [],
   "source": [
    "# Import data for houses in Memphis in the 38118 zip code for Simple Linear Regression\n",
    "cols=[\"SF\",\"Price\",\"Beds\",\"Baths\",\"Year_Built\",\"Lot_Size_Acres\",\"Garage_Size\",\"Stories\",\"Brick\"]\n",
    "SLR_df = pd.read_csv('data/Linear_Regression_Memphis.csv', names=cols)\n",
    "\n",
    "\n",
    "# See the first few lines of data\n",
    "print(\"Overview of data:\")\n",
    "print(SLR_df.head(3))\n",
    "\n",
    "\n",
    "# Display some information about the data\n",
    "print(\"\\nRanges for each data attribute:\")\n",
    "print(\"Square footage range is {:,d} to {:,d}.\".format(SLR_df[\"SF\"].min(), SLR_df[\"SF\"].max()))\n",
    "print(\"Price range is ${:,d} to ${:,d}.\".format(SLR_df[\"Price\"].min(), SLR_df[\"Price\"].max()))\n",
    "print(\"Number of bedrooms ranges from {:,d} to {:,d}.\".format(SLR_df[\"Beds\"].min(), SLR_df[\"Beds\"].max()))\n",
    "print(\"Number of baths ranges from {:.1f} to {:.1f}.\".format(SLR_df[\"Baths\"].min(), SLR_df[\"Baths\"].max()))\n",
    "print(\"Year built ranges from {:d} to {:d}.\".format(SLR_df[\"Year_Built\"].min(), SLR_df[\"Year_Built\"].max()))\n",
    "print(\"Garage size ranges from {:d} to {:d}.\".format(SLR_df[\"Garage_Size\"].min(), SLR_df[\"Garage_Size\"].max()))\n",
    "print(\"Number of stories ranges from {:d} to {:d}.\".format(SLR_df[\"Stories\"].min(), SLR_df[\"Stories\"].max()))\n",
    "print(\"Lot size ranges from {:.2f} to {:.2f} acres.\".format(SLR_df[\"Lot_Size_Acres\"].min(), SLR_df[\"Lot_Size_Acres\"].max()))\n"
   ]
  },
  {
   "cell_type": "markdown",
   "metadata": {},
   "source": [
    "### Plot a subset of the house prices as a function of the square footage"
   ]
  },
  {
   "cell_type": "code",
   "execution_count": null,
   "metadata": {},
   "outputs": [],
   "source": [
    "# Plot house data with no trend line\n",
    "\n",
    "# Pick a random subset of rows to plot\n",
    "# Get a subset of values for the plot by picking a random subset\n",
    "Subset_SLR_df = SLR_df.sample(frac=0.2)\n",
    "\n",
    "# Create scatterplot\n",
    "fig = px.scatter(Subset_SLR_df, x=\"SF\", y=\"Price\")\n",
    "fig.update_xaxes(title_text='SF')\n",
    "fig.update_yaxes(title_text='Price ($)')\n",
    "fig.update_layout(title_text='House prices as a function of square footage in Memphis', title_x=0.5)\n",
    "fig.show()"
   ]
  },
  {
   "cell_type": "markdown",
   "metadata": {},
   "source": [
    "### Now plot the house prices as a function of the square footage, but this time show a trendline"
   ]
  },
  {
   "cell_type": "code",
   "execution_count": null,
   "metadata": {},
   "outputs": [],
   "source": [
    "# Plot house data with a trend line\n",
    "\n",
    "# Create the scatterplot with trend line\n",
    "fig = px.scatter(Subset_SLR_df, x=\"SF\", y=\"Price\", trendline=\"ols\")\n",
    "fig.update_xaxes(title_text='SF')\n",
    "fig.update_yaxes(title_text='Price ($)')\n",
    "fig.update_layout(title_text='House prices as a function of square footage in Memphis with trendline', title_x=0.5)\n",
    "fig.show()\n",
    "\n",
    "# Prepare to add the trendline\n",
    "y = Subset_SLR_df[\"Price\"]\n",
    "x = Subset_SLR_df[\"SF\"]\n",
    "\n",
    "# Add the intercept\n",
    "x = sm.add_constant(x)\n",
    "# Create the model for the trendline and fit it\n",
    "model = sm.OLS(y,x)\n",
    "results = model.fit()\n",
    "\n",
    "print(\"Equation for trendline = {:.2f}*SF + {:.2f}\\n\".format(results.params[1], results.params[0]))\n",
    "print(\"The R-squared value = {:.3f}\".format(results.rsquared))\n",
    "\n",
    "\n"
   ]
  },
  {
   "cell_type": "markdown",
   "metadata": {},
   "source": [
    "\"R-squared is the percent of variance explained by the model.\" (https://www.statisticshowto.com/rmse/)\n",
    "An R-squared value of 1.0 would mean that all values fell exactly on the trendline.  So, the higher the R-squared value, the better.  Values range from 0 to 1.0."
   ]
  },
  {
   "cell_type": "markdown",
   "metadata": {},
   "source": [
    "### Let's create a model to predict house prices.  \n",
    "\n",
    "* We will do this using Simple Linear Regression and the model will only take square footage into account.\n",
    "* We will divide our data up into 2 groups - the training group and testing group.  80% will be in training, 20% in testing."
   ]
  },
  {
   "cell_type": "code",
   "execution_count": null,
   "metadata": {},
   "outputs": [],
   "source": [
    "# Reshape our data so it is in a usable format\n",
    "SLR_X = SLR_df['SF'].values.reshape(-1,1)\n",
    "SLR_y = SLR_df['Price'].values.reshape(-1,1)\n",
    "\n",
    "# Create train/test splits\n",
    "SLR_X_train, SLR_X_test, SLR_y_train, SLR_y_test = train_test_split(SLR_X, SLR_y, test_size=0.2, random_state=0)\n",
    "\n",
    "# Create the regressor and train the model\n",
    "regressor = LinearRegression()  \n",
    "regressor.fit(SLR_X_train, SLR_y_train)\n",
    "\n",
    "# Get the slope\n",
    "slope = regressor.coef_[0][0]\n",
    "slope = slope.astype(float)\n",
    "\n",
    "# Get the intercept\n",
    "intercept = regressor.intercept_[0]\n",
    "intercept = intercept.astype(float)\n"
   ]
  },
  {
   "cell_type": "markdown",
   "metadata": {},
   "source": [
    "### Make predictions based on the model we just created and see how well it performs.\n"
   ]
  },
  {
   "cell_type": "code",
   "execution_count": null,
   "metadata": {},
   "outputs": [],
   "source": [
    "SLR_y_pred = regressor.predict(SLR_X_test)\n",
    "\n",
    "# Print the predictions vs actual values\n",
    "print(\"Simple Linear Regression Predictions:\")\n",
    "for i in range(0,len(SLR_y_pred)-1):\n",
    "    print(\"SF = {:,d}, Prediction = {:,d}, Actual = {:,d}, Difference =  {:,d}\".format(int(SLR_X_test[i]),\n",
    "                                                                                       int(SLR_y_pred[i][0]),\n",
    "                                                                                       int(SLR_y_test[i][0]),\n",
    "                                                                                       int(SLR_y_pred[i][0] - SLR_y_test[i][0])))\n",
    "    i = i + 1\n",
    "\n",
    "# Print equation for regression\n",
    "print(\"\\nEquation created during training that is used to make predictions = {:.2f}*SF + {:.2f}\".format(slope, intercept))\n",
    "\n",
    "# Print equation for trendline\n",
    "print(\"Equation for trendline = {:.2f}*SF + {:.2f}\\n\".format(results.params[1], results.params[0]))\n"
   ]
  },
  {
   "cell_type": "markdown",
   "metadata": {},
   "source": [
    "### Use the Root Mean Square Error metric to evaluate how well our model performed.  \n",
    "\n",
    "The RMSE can be interpreted as the standard deviation of the unexplained variance, and has the useful property of being in the same units as the response variable. Lower values of RMSE indicate better fit. RMSE is a good measure of how accurately the model predicts the response, and it is the most important criterion for fit if the main purpose of the model is prediction. (https://www.theanalysisfactor.com/assessing-the-fit-of-regression-models/)"
   ]
  },
  {
   "cell_type": "code",
   "execution_count": null,
   "metadata": {},
   "outputs": [],
   "source": [
    "# Use RMSE metric\n",
    "SLR_RMSE = np.sqrt(sklearn.metrics.mean_squared_error(SLR_y_test,SLR_y_pred))\n",
    "print('\\nRoot Mean Squared Error For Simple Linear Regression: {:.2f}\\n'.format(SLR_RMSE))\n"
   ]
  },
  {
   "cell_type": "markdown",
   "metadata": {},
   "source": [
    "# Use Multiple Variable Linear Regression to Predict Prices for Houses in Memphis in the 38118 Zip Code.  This time we will use all the variables, not just square footage. Square footage is scaled to acres to have the same units as lot size.\n",
    "\n",
    "### We are using the same dataset as before."
   ]
  },
  {
   "cell_type": "code",
   "execution_count": null,
   "metadata": {},
   "outputs": [],
   "source": [
    "# Define the columns to be used for regression and import the dataset into a dataframe\n",
    "cols=[\"SF\",\"Price\",\"Beds\",\"Baths\",\"Year_Built\",\"Lot_Size_Acres\",\"Garage_Size\",\"Stories\",\"Brick\"]\n",
    "MLR_df = pd.read_csv('data/Linear_Regression_Memphis.csv', names=cols)\n",
    "\n",
    "# Scale SF to SF_acres\n",
    "MLR_df[\"SF_Acres\"] = (MLR_df[\"SF\"] / 43560)\n",
    "\n",
    "print(MLR_df.head(5))"
   ]
  },
  {
   "cell_type": "markdown",
   "metadata": {},
   "source": [
    "### Let's create a model to predict house prices.\n",
    "* We will do this using Linear Regression and the model will take all features into account.\n",
    "* We will divide our data up into 2 groups - the training group and testing group. 80% will be in training, 20% in testing."
   ]
  },
  {
   "cell_type": "code",
   "execution_count": null,
   "metadata": {},
   "outputs": [],
   "source": [
    "# Create 2 subsets of data.  One with attributes we will use for regression (X), and \n",
    "# one for the values we are trying to predict - house prices (y)\n",
    "\n",
    "#MLR_X = MLR_df[[\"SF\", \"Beds\",\"Baths\",\"Year_Built\",\"Lot_Size_Acres\",\"Garage_Size\",\"Stories\",\"Brick\"]]\n",
    "\n",
    "MLR_X = MLR_df[[\"SF_Acres\", \"Beds\",\"Baths\",\"Year_Built\",\"Lot_Size_Acres\",\"Garage_Size\",\"Stories\",\"Brick\"]]\n",
    "MLR_y = MLR_df[\"Price\"]\n",
    "\n",
    "\n",
    "# Create train/test splits\n",
    "MLR_X_train, MLR_X_test, MLR_y_train, MLR_y_test = train_test_split(MLR_X, MLR_y, test_size=0.2, random_state=0)\n",
    "\n",
    "# Create the regressor and train the model\n",
    "regressor = LinearRegression()  \n",
    "regressor.fit(MLR_X_train, MLR_y_train)"
   ]
  },
  {
   "cell_type": "markdown",
   "metadata": {},
   "source": [
    "### Now that we have the model, let's see how much each of the attributes contributes to making the predictions."
   ]
  },
  {
   "cell_type": "code",
   "execution_count": null,
   "metadata": {},
   "outputs": [],
   "source": [
    "# Get the coefficients for each of the attributes\n",
    "MLR_coeff_df = pd.DataFrame(regressor.coef_, MLR_X.columns, columns=['Coefficient'])\n",
    "#print(regressor.coef_)\n",
    "#print(MLR_X.columns)\n",
    "\n",
    "# Print the value of each coefficient\n",
    "print(\"The coefficients for each attribute are: \")\n",
    "print(MLR_coeff_df)\n",
    "\n",
    "# Print the intercept\n",
    "print(\"\\nThe intercept is {:.2f}\\n\".format(regressor.intercept_))\n",
    "\n",
    "# Show the equation\n",
    "#cols_for_equation=[\"SF\", \"Beds\",\"Baths\",\"Year_Built\",\"Lot_Size_Acres\",\"Garage_Size\",\"Stories\",\"Brick\"]\n",
    "cols_for_equation=[\"SF_Acres\", \"Beds\",\"Baths\",\"Year_Built\",\"Lot_Size_Acres\",\"Garage_Size\",\"Stories\",\"Brick\"]\n",
    "equation = \"Price = \"\n",
    "for i in range(0,len(cols_for_equation)):\n",
    "    #MLR_coeff_attr = \"{:.2f}\".format(MLR_coeff_df.iloc[i,0]) \n",
    "    equation = equation + \"({:.2f}*{}) +\".format(MLR_coeff_df.iloc[i,0]/100, cols_for_equation[i])\n",
    "    #equation = equation + \"(\" + str(MLR_coeff_attr) + \"*\" + cols_for_equation[i] + \") + \"\n",
    "\n",
    "equation = equation + \"(\" + str(regressor.intercept_) + \")\"\n",
    "\n",
    "print(\"*****\\nThe equation created during training that is used to make predictions (coefficients divided by 100) = \\n\")\n",
    "print(equation)\n",
    "\n"
   ]
  },
  {
   "cell_type": "markdown",
   "metadata": {},
   "source": [
    "### Explanation of coefficients\n",
    "* The size of the coefficient for each independent variable gives you the size of the effect that variable is having on your dependent variable, in this case, the price.  The sign on the coefficient (positive or negative) gives you the direction of the effect. The coefficient tells you how much the dependent variable is expected to increase when that independent variable increases by one, holding all the other independent variables constant.  (https://dss.princeton.edu/online_help/analysis/interpreting_regression.htm#coefficients)\n",
    "* The Lot Size has the greatest effect on price.\n",
    "* The number of stories has a much greater effect than the square footage.  Surprising???  Only 7 of the 86 houses were 2 story, so we need to go back and re-evaluate having this variable in our model.\n",
    "* Garage size had a negative effect on the price."
   ]
  },
  {
   "cell_type": "markdown",
   "metadata": {},
   "source": [
    "### Make predictions based on the model we just created and see how well it performs"
   ]
  },
  {
   "cell_type": "code",
   "execution_count": null,
   "metadata": {},
   "outputs": [],
   "source": [
    "# Make predictions\n",
    "MLR_y_pred = regressor.predict(MLR_X_test)\n",
    "\n",
    "MLR_Actual_Predicted_df = pd.DataFrame({'Predicted': MLR_y_pred, 'Actual': MLR_y_test})\n",
    "\n",
    "# Print the predictions vs actual values\n",
    "print(\"Predictions:\")\n",
    "for i in range(0,len(MLR_y_pred)-1):\n",
    "    print(\"SF = {:,d}, Prediction = {:,d}, Actual = {:,d}, Difference =  {:,d}\".format(int(MLR_X_test.iloc[i][0]),\n",
    "                                                                                       int(MLR_Actual_Predicted_df.iloc[i][1]),\n",
    "                                                                                       int(MLR_Actual_Predicted_df.iloc[i][0]),\n",
    "                                                                                       int(MLR_Actual_Predicted_df.iloc[i][1] - int(MLR_Actual_Predicted_df.iloc[i][0]))))\n",
    "    i = i + 1\n",
    "\n"
   ]
  },
  {
   "cell_type": "markdown",
   "metadata": {},
   "source": [
    "### Use the Root Mean Square Error metric to evaluate how well our model performed"
   ]
  },
  {
   "cell_type": "code",
   "execution_count": null,
   "metadata": {},
   "outputs": [],
   "source": [
    "# Use RMSE metric\n",
    "MLR_RMSE = np.sqrt(sklearn.metrics.mean_squared_error(MLR_y_test, MLR_y_pred))\n",
    "print('\\nRoot Mean Squared Error: {:.2f}'.format(MLR_RMSE))"
   ]
  },
  {
   "cell_type": "markdown",
   "metadata": {},
   "source": [
    "# Comparisons of Simple Linear Regression versus Multiple Variable Linear Regression"
   ]
  },
  {
   "cell_type": "markdown",
   "metadata": {},
   "source": [
    "### Compare RMSE"
   ]
  },
  {
   "cell_type": "code",
   "execution_count": null,
   "metadata": {},
   "outputs": [],
   "source": [
    "# Show RMSE for SLR vs MLR\n",
    "\n",
    "print((\"RMSE for Linear Regression = {:.2f}\\nRMSE for Multiple Linear Regression = {:.2f}\").format(SLR_RMSE, MLR_RMSE))"
   ]
  },
  {
   "cell_type": "markdown",
   "metadata": {},
   "source": [
    "### Compare predictions"
   ]
  },
  {
   "cell_type": "code",
   "execution_count": null,
   "metadata": {},
   "outputs": [],
   "source": [
    "# Print the SLR predictions vs MLR prediction\n",
    "print(\"SLR predictions vs MLR prediction:\")\n",
    "SLR_total = 0\n",
    "MLR_total = 0\n",
    "for i in range(0,len(MLR_y_pred)-1):\n",
    "    \n",
    "    prediction = \"\"\n",
    "#    print(\"SF = {:,d}, SLR Prediction = {:,d}, MLR Prediction = {:,d}, Actual = {:,d}\".format(int(MLR_X_test.iloc[i][0]),\n",
    "#                                                                                       int(SLR_y_pred[i][0]),\n",
    "#                                                                                       int(MLR_Actual_Predicted_df.iloc[i][1]),\n",
    "#                                                                                       int(MLR_Actual_Predicted_df.iloc[i][0])))\n",
    "    prediction = prediction + \"SF = {:,d}, SLR Prediction = {:,d}, MLR Prediction = {:,d}, Actual = {:,d}\".format(int(MLR_X_test.iloc[i][0]),\n",
    "                                                                                       int(SLR_y_pred[i][0]),\n",
    "                                                                                       int(MLR_Actual_Predicted_df.iloc[i][1]),\n",
    "                                                                                       int(MLR_Actual_Predicted_df.iloc[i][0]))\n",
    "\n",
    "    # Calculate differences to determine which mad a better predition\n",
    "    SLR_diff = abs(int(SLR_y_pred[i][0]) - int(MLR_Actual_Predicted_df.iloc[i][0]))\n",
    "    MLR_diff = abs(int(MLR_Actual_Predicted_df.iloc[i][1]) - int(MLR_Actual_Predicted_df.iloc[i][0]))\n",
    "\n",
    "    if (SLR_diff < MLR_diff):\n",
    "        prediction = prediction + \" - SLR made a better prediction\"\n",
    "        SLR_total += 1\n",
    "    else:\n",
    "        prediction = prediction + \" - MLR made a better prediction\"\n",
    "        MLR_total += 1\n",
    "        \n",
    "    print(prediction)\n",
    "    i = i + 1\n",
    "\n",
    "print(\"\\nSLR made {:d} better predictions\".format(SLR_total))\n",
    "print(\"MLR made {:d} better predictions\".format(MLR_total))"
   ]
  },
  {
   "cell_type": "markdown",
   "metadata": {},
   "source": [
    "# Test with new, unseen data to test model"
   ]
  },
  {
   "cell_type": "code",
   "execution_count": null,
   "metadata": {},
   "outputs": [],
   "source": [
    "X_columns = [\"SF in Acres\",\"Beds\",\"Baths\",\"Year_Built\",\"Lot_Size_Acres\",\"Garage_Size\",\"Stories\",\"Brick\"]\n",
    "\n",
    "# New data #1\n",
    "\n",
    "X_test = pd.DataFrame(data=[[\"0.02555096\", \"3\", \"2\", \"1973\", \"0.15\", \"0\", \"1\", \"1\"]])\n",
    "y_test = \"57414\"\n",
    "\n",
    "y_pred = regressor.predict(X_test)\n",
    "\n",
    "print(\"New data #1\")\n",
    "print(\"SF in Acres = {}, Prediction = {:,d}, Actual = {:,d}, Difference = {:,d}\".format(X_test.iloc[0][0],\n",
    "                                                                                     int(y_pred),\n",
    "                                                                                     int(y_test),\n",
    "                                                                                     int(int(y_pred) - int(y_test))))\n",
    "\n",
    "# New data #2\n",
    "X_test = pd.DataFrame(data=[[\"0.03466483\", \"3\", \"2\", \"1962\", \"0.25\", \"0\", \"1\", \"1\"]])\n",
    "y_test = \"77276\"\n",
    "\n",
    "y_pred = regressor.predict(X_test)\n",
    "\n",
    "print(\"\\nNew data #2\")\n",
    "print(\"SF = {}, Prediction = {:,d}, Actual = {:,d}, Difference = {:,d}\".format(X_test.iloc[0][0],\n",
    "                                                                                     int(y_pred),\n",
    "                                                                                     int(y_test),\n",
    "                                                                                     int(int(y_pred) - int(y_test))))\n"
   ]
  },
  {
   "cell_type": "markdown",
   "metadata": {},
   "source": [
    "Credits\n",
    "* https://towardsdatascience.com/a-beginners-guide-to-linear-regression-in-python-with-scikit-learn-83a8f7ae2b4f\n",
    "* www.plotly.com\n",
    "* https://www.theanalysisfactor.com/assessing-the-fit-of-regression-models/\n",
    "* https://www.statisticshowto.com/rmse/\n",
    "* https://dss.princeton.edu/online_help/analysis/interpreting_regression.htm#coefficients\n",
    "* All the house information came from www.zillow.com\n"
   ]
  },
  {
   "cell_type": "code",
   "execution_count": null,
   "metadata": {},
   "outputs": [],
   "source": []
  }
 ],
 "metadata": {
  "kernelspec": {
   "display_name": "Python 3",
   "language": "python",
   "name": "python3"
  },
  "language_info": {
   "codemirror_mode": {
    "name": "ipython",
    "version": 3
   },
   "file_extension": ".py",
   "mimetype": "text/x-python",
   "name": "python",
   "nbconvert_exporter": "python",
   "pygments_lexer": "ipython3",
   "version": "3.5.2"
  }
 },
 "nbformat": 4,
 "nbformat_minor": 4
}
