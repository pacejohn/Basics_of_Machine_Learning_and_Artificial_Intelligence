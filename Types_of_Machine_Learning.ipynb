{
 "cells": [
  {
   "cell_type": "markdown",
   "metadata": {},
   "source": [
    "# Types of Machine Learning\n",
    "\n",
    "Machine Learning can be broken down into 3 major types:\n",
    "* Supervised Learning\n",
    "* Unsupervised Learning\n",
    "* Semi-supervised Learning\n",
    "\n",
    "In this series, we will discuss supervised and unsupervised learning.  A visual showing the various types of both supervised and unsupervised learning is below.  You will notice that there are many different subclasses to each.  We will not discuss each of them, but they are worth looking into when you have time."
   ]
  },
  {
   "cell_type": "markdown",
   "metadata": {},
   "source": [
    "![title](./images/Types_of_ML.JPG)"
   ]
  },
  {
   "cell_type": "markdown",
   "metadata": {},
   "source": [
    "# Supervised Learning\n",
    "* Uses \"labeled\" data to create models.  Data is labeled into classes, or groups.  For example, images can be classified as cats, dogs, and birds.\n",
    "* Requires training and validation data sets with labeled data.  Getting a sufficiently large and unbiased training set is often not a trivial task.\n",
    "* Creates a model that learns the characteristics of each class, or group, during training.\n",
    "* Uses the model to classify new data.\n",
    "* A holdout, or test, data set is used to evaluate your model and how well it is performing."
   ]
  },
  {
   "cell_type": "markdown",
   "metadata": {},
   "source": [
    "### Some common uses of supervised learning.  This list is by no means comprehensive.\n",
    "* Fraud detection\n",
    "* Image classification or object detection in images\n",
    "* Regression, such as logistic regression "
   ]
  },
  {
   "cell_type": "markdown",
   "metadata": {},
   "source": [
    "Below is a visual that shows a simplified workflow for supervised learning.\n",
    "* First, gather your input data.  In this case, the data consists of pictures of apples.\n",
    "* The images are annotated, or labeled, as being apples.  In a real scenario, you would have more than one class, or group, of images.  For example, you might have images of apples, oranges, and bananas.\n",
    "* Your input data does not have to be images.  You could also have numerical or categorical values.  You may have values, or features, such as height, circumference, color, and weight that are used as input to classify the fruits.\n",
    "* The input data is divided into training and validation data sets to train your model.  Training is an iterative process where each piece of input data is examined individually multiple times.\n",
    "* Once training is finished, you test your newly created model on data the model has never seen, ie, it was not part of the training or validation sets.  This unseen data is called a test set.  If the model is performing well, it should correctly classify the new data.  In this example, it would classify an image of an apple as an apple, not an orange.  If the model does not perform well (has many misclassifications), then you need to change your model.  We will discuss how to do that in subsequent parts of this series."
   ]
  },
  {
   "cell_type": "markdown",
   "metadata": {},
   "source": [
    "![title](./images/Supervised_Learning_01.JPG)"
   ]
  },
  {
   "cell_type": "markdown",
   "metadata": {},
   "source": [
    "# Unsupervised Learning\n",
    "* Used for clustering and association.\n",
    "* Does not require \"labeled\" data to create models.\n",
    "* The more data the better, but you may not need as much as with supervised learning.\n",
    "* Clusters, or groups, data points based on common features."
   ]
  },
  {
   "cell_type": "markdown",
   "metadata": {},
   "source": [
    "### Some common uses of unsupervised learning.  This list is by no means comprehensive.\n",
    "* Classifying customers based on similar characteristics.  You do not know which characteristics make the customers similar, but this classification can help you discover the similarities.  Notice that this is different from supervised learning where you would tell the model which class each customer belongs in.\n",
    "* Finding associations between products.  For example, discovering which products tend to sell together at a grocery store.\n",
    "* Making recommendations, such as when Amazon displays products you may like based on what you have bought or searched for."
   ]
  },
  {
   "cell_type": "markdown",
   "metadata": {},
   "source": [
    "Below is a visual that shows a simplified workflow for unsupervised learning.\n",
    "* Input data is fed into a model.  The data is unlabeled.\n",
    "* Training consists of finding similarities in the input data and outputting a model that can classify the data based on the similarities."
   ]
  },
  {
   "cell_type": "markdown",
   "metadata": {},
   "source": [
    "![title](./images/Unsupervised_Learning_01.JPG)"
   ]
  },
  {
   "cell_type": "markdown",
   "metadata": {},
   "source": [
    "Credits\n",
    "* https://blogs.oracle.com/datascience/types-of-machine-learning-and-top-10-algorithms-everyone-should-know-v2\n",
    "* https://www.researchgate.net/figure/Supervised-learning-and-unsupervised-learning-Supervised-learning-uses-annotation_fig1_329533120\n",
    "\n"
   ]
  },
  {
   "cell_type": "markdown",
   "metadata": {},
   "source": [
    "Last Updated 9/14/20"
   ]
  },
  {
   "cell_type": "code",
   "execution_count": null,
   "metadata": {},
   "outputs": [],
   "source": []
  }
 ],
 "metadata": {
  "kernelspec": {
   "display_name": "Python 3",
   "language": "python",
   "name": "python3"
  },
  "language_info": {
   "codemirror_mode": {
    "name": "ipython",
    "version": 3
   },
   "file_extension": ".py",
   "mimetype": "text/x-python",
   "name": "python",
   "nbconvert_exporter": "python",
   "pygments_lexer": "ipython3",
   "version": "3.6.9"
  }
 },
 "nbformat": 4,
 "nbformat_minor": 4
}
