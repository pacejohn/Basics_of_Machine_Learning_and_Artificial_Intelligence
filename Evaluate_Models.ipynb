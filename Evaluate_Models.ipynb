{
 "cells": [
  {
   "cell_type": "markdown",
   "metadata": {},
   "source": [
    "# Is your model really that good?"
   ]
  },
  {
   "cell_type": "markdown",
   "metadata": {},
   "source": [
    "### You can't always rely on accuracy alone!  Let's look at an example."
   ]
  },
  {
   "cell_type": "markdown",
   "metadata": {},
   "source": [
    "The image on the left is MRI of the heart.  The image on the right shows the pixels that make up the left ventricle.  Notice in the top set of pictures, there are many more pixels labeled as left ventricle."
   ]
  },
  {
   "cell_type": "markdown",
   "metadata": {},
   "source": [
    "![title](./images/Left_Ventricle_Large_01.JPG)\n",
    "![title](./images/Left_Ventricle_Small_01.JPG)\n",
    "Pictures courtesy of Nvidia"
   ]
  },
  {
   "cell_type": "markdown",
   "metadata": {},
   "source": [
    "If you labeled every pixel in the bottom right picture as \"Not Left Ventricle,\" you would get 98.3% accuracy on your predictions.  However, your model would be performing terribly well if you are trying to actually identify the left ventricle.  So, you always have to look at your model in context, don't just rely on a single number."
   ]
  },
  {
   "cell_type": "markdown",
   "metadata": {},
   "source": [
    "Another example is fraud detection at a bank.  There may be 5,000,000 transactions that are not fraudulent and 50 that are fraudulent.  If you label every transaction as \"Not Fraudulent,\" you would have 99.999% accuracy.  The problem is that your model would be missing all fraudulent transactions and the bank would not be happy!"
   ]
  },
  {
   "cell_type": "markdown",
   "metadata": {},
   "source": [
    "### Precision"
   ]
  },
  {
   "cell_type": "markdown",
   "metadata": {},
   "source": [
    "Precision is good to use when the costs of False Positive is high, as it is with our banking example.  Assume our positive value is that the transaction is NOT fraudulent.  If we label a fraudulent transaction as not fraudulent, this is a false positive.  The cost of making this prediction could be very high!  Precision is defined as the number of true positive divided by the number of predicted positives.  In the most basic sense, it is how many relevant items were selected."
   ]
  }
 ],
 "metadata": {
  "kernelspec": {
   "display_name": "Python 3",
   "language": "python",
   "name": "python3"
  },
  "language_info": {
   "codemirror_mode": {
    "name": "ipython",
    "version": 3
   },
   "file_extension": ".py",
   "mimetype": "text/x-python",
   "name": "python",
   "nbconvert_exporter": "python",
   "pygments_lexer": "ipython3",
   "version": "3.5.2"
  }
 },
 "nbformat": 4,
 "nbformat_minor": 4
}
