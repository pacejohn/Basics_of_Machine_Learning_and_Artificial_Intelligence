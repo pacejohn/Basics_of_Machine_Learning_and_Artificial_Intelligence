{
 "cells": [
  {
   "cell_type": "markdown",
   "metadata": {},
   "source": [
    "# Classification using K-Nearest Neighbors (KNN)"
   ]
  },
  {
   "cell_type": "markdown",
   "metadata": {},
   "source": [
    "K-Nearest Neighbors (KNN) is a supervised method to classify data.  Data points are classified based on their values for each feature and how close those values are to a certain number of already classified data points."
   ]
  },
  {
   "cell_type": "markdown",
   "metadata": {},
   "source": [
    "### More details on how it works\n",
    "  \n",
    "* First you choose a value of K. Make sure it is an odd number so you don't end up with ties!\n",
    "* The previously labeled data points (training) are placed in multi-dimensional space.  The number of dimensions corresponds to the number of features for each data point.  If there are 3 features, it will be 3-D space, 4 features will be 4-D space, etc. \n",
    "* Add a new, unlabeled data point that you wish to classify. \n",
    "* Find the K labeled points closest to the new data point.  For example, if K=5, then find the 5 labeled data points closest to the newly input data point. \n",
    "* Determine which class each of the K data points is in.  The newly input data point is then classified in the majority class.  This is why it is important for K to be odd.\n",
    "\n",
    "* KNN differs from K-means, an unsupervised method, in that with KNN you already know which class each data point is in before you place the new data point.\n",
    "\n"
   ]
  },
  {
   "cell_type": "markdown",
   "metadata": {},
   "source": [
    "The visual below shows how the K-nearest neighbor algorithm works.  In this image, there are only 2 features for each data point, so the classification is done on just 2 dimensions.  High dimensions can be quite difficult to visualize.  For this example, if K=3, then the new data point (the yellow square) will be classified as Class B because the 3 closest data points  are 2 green triangles and 1 red star.  If K=5, then the yellow square is classified as Class A.  You can see how the selection of K can make a significant difference."
   ]
  },
  {
   "cell_type": "markdown",
   "metadata": {},
   "source": [
    "![title](./images/KNN_01.JPG)"
   ]
  },
  {
   "cell_type": "code",
   "execution_count": 1,
   "metadata": {},
   "outputs": [],
   "source": [
    "# Imports\n",
    "import matplotlib.pyplot as plt  \n",
    "import numpy as np  \n",
    "import pandas as pd  \n",
    "import sklearn\n",
    "from sklearn import datasets\n",
    "from sklearn.model_selection import train_test_split\n",
    "from sklearn.neighbors import KNeighborsClassifier"
   ]
  },
  {
   "cell_type": "markdown",
   "metadata": {},
   "source": [
    "# Let's see KNN in action using the famous Iris dataset\n",
    "(https://archive.ics.uci.edu/ml/datasets/iris)"
   ]
  },
  {
   "cell_type": "markdown",
   "metadata": {},
   "source": [
    "![title](./images/Irises.jpg)"
   ]
  },
  {
   "cell_type": "markdown",
   "metadata": {},
   "source": [
    "\n",
    "Image from: https://www.brecks.com/product/rainbow-iris-collection-09163?p=0729246&gclid=Cj0KCQjwqfz6BRD8ARIsAIXQCf29HuYf78xx1Tntdluq6lLqHBK7VrIVggfz2IC24FF44s8UM-euKYMaAjJjEALw_wcB"
   ]
  },
  {
   "cell_type": "markdown",
   "metadata": {},
   "source": [
    "### Import the Iris dataset"
   ]
  },
  {
   "cell_type": "code",
   "execution_count": 2,
   "metadata": {},
   "outputs": [
    {
     "name": "stdout",
     "output_type": "stream",
     "text": [
      "***Class Names***\n",
      "setosa\n",
      "versicolor\n",
      "virginica\n",
      "\n",
      "***Feature Names***\n",
      "sepal length (cm)\n",
      "sepal width (cm)\n",
      "petal length (cm)\n",
      "petal width (cm)\n",
      "\n",
      "\n"
     ]
    }
   ],
   "source": [
    "# Load the Iris dataset\n",
    "iris = datasets.load_iris()\n",
    "\n",
    "# Print the class names \n",
    "# These are the names of the Iris species.  We are trying to classify \n",
    "# new, previously unclassified irises as one of these species.\n",
    "print(\"***Class Names***\")\n",
    "for item in iris.target_names:\n",
    "    print(item)\n",
    "\n",
    "# Print the feature names\n",
    "# These are the values we will use to perform our classifications\n",
    "print(\"\\n***Feature Names***\")\n",
    "for item in iris.feature_names:\n",
    "    print(item)\n",
    "    \n",
    "print(\"\\n\")\n",
    "\n",
    "# Define features and target from the dataframe that was created by importing the dataset\n",
    "# X will be all 4 features\n",
    "X = iris.data[:, :4]\n",
    "# y is the type of flower\n",
    "y = iris.target\n"
   ]
  },
  {
   "cell_type": "markdown",
   "metadata": {},
   "source": [
    "### Create our KNN model to classify new, previously unclassified flowers based upon their values for the 4 features"
   ]
  },
  {
   "cell_type": "code",
   "execution_count": 3,
   "metadata": {},
   "outputs": [
    {
     "data": {
      "text/plain": [
       "KNeighborsClassifier(n_neighbors=3)"
      ]
     },
     "execution_count": 3,
     "metadata": {},
     "output_type": "execute_result"
    }
   ],
   "source": [
    "# Create train/test splits\n",
    "rs = 0\n",
    "X_train, X_test, y_train, y_test = train_test_split(X, y, test_size=0.2, random_state=rs)\n",
    "\n",
    "# Instantiate the KNeighborsClassifier, setting k=3\n",
    "knn = KNeighborsClassifier(n_neighbors=3)\n",
    "\n",
    "# Train the model\n",
    "knn.fit(X_train, y_train)\n"
   ]
  },
  {
   "cell_type": "markdown",
   "metadata": {},
   "source": [
    "### See how well our classification model performs."
   ]
  },
  {
   "cell_type": "code",
   "execution_count": 4,
   "metadata": {},
   "outputs": [
    {
     "name": "stdout",
     "output_type": "stream",
     "text": [
      "Test set accuracy: 96.67%\n"
     ]
    }
   ],
   "source": [
    "# Make predictions using the test data\n",
    "y_pred = knn.predict(X_test)\n",
    "\n",
    "# Show the accuracy of the predictions\n",
    "print(\"Test set accuracy: {:.2f}%\".format(knn.score(X_test, y_test)*100))"
   ]
  },
  {
   "cell_type": "markdown",
   "metadata": {},
   "source": [
    "### Test the new model by making a prediction based on unseen data"
   ]
  },
  {
   "cell_type": "code",
   "execution_count": 5,
   "metadata": {},
   "outputs": [
    {
     "name": "stdout",
     "output_type": "stream",
     "text": [
      "The predicted class for this sample is setosa.\n",
      "The correct class is setosa.\n"
     ]
    }
   ],
   "source": [
    "# Create a new sample and use the model built above to predict the species\n",
    "x_new = np.array([[0.1, 8.6, 2.3, 4.1]])\n",
    "\n",
    "# Predict the class for this new sample\n",
    "prediction = knn.predict(x_new)\n",
    "print(\"The predicted class for this sample is \" + str(iris['target_names'][prediction][0]) + \".\")\n",
    "print(\"The correct class is setosa.\")\n"
   ]
  },
  {
   "cell_type": "markdown",
   "metadata": {},
   "source": [
    "### How can we determine what the best value for K is?  Let's loop through some values and find out."
   ]
  },
  {
   "cell_type": "code",
   "execution_count": 6,
   "metadata": {},
   "outputs": [
    {
     "name": "stdout",
     "output_type": "stream",
     "text": [
      "When K=1, then the accuracy is 100.00%\n",
      "When K=2, then the accuracy is 96.67%\n",
      "When K=3, then the accuracy is 96.67%\n",
      "When K=4, then the accuracy is 100.00%\n",
      "When K=5, then the accuracy is 96.67%\n",
      "When K=6, then the accuracy is 100.00%\n",
      "When K=7, then the accuracy is 100.00%\n",
      "When K=8, then the accuracy is 100.00%\n",
      "When K=9, then the accuracy is 100.00%\n",
      "When K=10, then the accuracy is 100.00%\n",
      "When K=11, then the accuracy is 100.00%\n",
      "When K=12, then the accuracy is 100.00%\n",
      "When K=13, then the accuracy is 100.00%\n",
      "When K=14, then the accuracy is 100.00%\n",
      "When K=15, then the accuracy is 100.00%\n",
      "When K=16, then the accuracy is 100.00%\n",
      "When K=17, then the accuracy is 100.00%\n",
      "When K=18, then the accuracy is 100.00%\n",
      "When K=19, then the accuracy is 100.00%\n",
      "When K=20, then the accuracy is 100.00%\n"
     ]
    }
   ],
   "source": [
    "# Create a list to store the accuracy we get for each different value of K\n",
    "accuracy_list = []\n",
    "# Let's try K from 1-20\n",
    "k_range = range(1,21)\n",
    "\n",
    "# Try values of K from 1 to 20\n",
    "for i in k_range:\n",
    "\n",
    "    # Instantiate the KNeighborsClassifier\n",
    "    knn = KNeighborsClassifier(n_neighbors=i)\n",
    "\n",
    "    # Train the model\n",
    "    knn.fit(X_train, y_train)\n",
    "\n",
    "    # Make predictions using the test data\n",
    "    y_pred = knn.predict(X_test)\n",
    "    \n",
    "    # Add the accuracy we got for this prediction to our list\n",
    "    accuracy_list.append(knn.score(X_test, y_test))\n",
    "\n",
    "    # Show the accuracy for all the predictions\n",
    "    print(\"When K={:,d}, then the accuracy is {:.2f}%\".format(int(i), knn.score(X_test, y_test)*100))\n",
    "    "
   ]
  },
  {
   "cell_type": "markdown",
   "metadata": {},
   "source": [
    "# Let's plot our accuracies\n",
    "The plot will allow us to quickly see what value of K is best.  You may notice something interesting.  With the test set we used, any value greater than or equal to 6 will perform very well.  Try changing the line \"rs=0\" to a different number and see how the value accuracy values and the graph change."
   ]
  },
  {
   "cell_type": "code",
   "execution_count": 7,
   "metadata": {},
   "outputs": [
    {
     "data": {
      "text/plain": [
       "<function matplotlib.pyplot.show(*args, **kw)>"
      ]
     },
     "execution_count": 7,
     "metadata": {},
     "output_type": "execute_result"
    },
    {
     "data": {
      "image/png": "[encoded data removed]",
      "text/plain": [
       "<Figure size 432x288 with 1 Axes>"
      ]
     },
     "metadata": {
      "needs_background": "light"
     },
     "output_type": "display_data"
    }
   ],
   "source": [
    "# Plot the accuracy vs K\n",
    "plt.plot(k_range, accuracy_list)\n",
    "plt.xlabel(\"K\")\n",
    "plt.ylabel(\"Accuracy\")\n",
    "plt.title(\"Accuracy for each value of K\")\n",
    "plt.xticks([0,2,4,6,8,10,12,14,16,18,20])\n",
    "plt.show"
   ]
  },
  {
   "cell_type": "markdown",
   "metadata": {},
   "source": [
    "Credits\n",
    "* https://towardsdatascience.com/knn-using-scikit-learn-c6bed765be75\n",
    "* https://medium.com/datadriveninvestor/k-nearest-neighbors-knn-7b4bd0128da7\n",
    "* https://www.datacamp.com/community/tutorials/k-nearest-neighbor-classification-scikit-learn\n",
    "* https://www.kaggle.com/crowemi/iris-classification-k-nearest-neighbors\n",
    "\n"
   ]
  },
  {
   "cell_type": "markdown",
   "metadata": {},
   "source": [
    "Last Updated 9/14/20"
   ]
  },
  {
   "cell_type": "code",
   "execution_count": null,
   "metadata": {},
   "outputs": [],
   "source": []
  }
 ],
 "metadata": {
  "kernelspec": {
   "display_name": "Python 3",
   "language": "python",
   "name": "python3"
  },
  "language_info": {
   "codemirror_mode": {
    "name": "ipython",
    "version": 3
   },
   "file_extension": ".py",
   "mimetype": "text/x-python",
   "name": "python",
   "nbconvert_exporter": "python",
   "pygments_lexer": "ipython3",
   "version": "3.6.9"
  }
 },
 "nbformat": 4,
 "nbformat_minor": 4
}
